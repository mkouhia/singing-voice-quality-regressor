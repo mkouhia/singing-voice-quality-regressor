{
 "cells": [
  {
   "cell_type": "code",
   "execution_count": 1,
   "id": "9965d88b",
   "metadata": {},
   "outputs": [],
   "source": [
    "from pathlib import Path\n",
    "import torchaudio"
   ]
  },
  {
   "cell_type": "markdown",
   "id": "b6910bde",
   "metadata": {},
   "source": [
    "## Data loading"
   ]
  },
  {
   "cell_type": "code",
   "execution_count": 2,
   "id": "660e27b5",
   "metadata": {
    "scrolled": false
   },
   "outputs": [
    {
     "name": "stdout",
     "output_type": "stream",
     "text": [
      "AudioMetaData(sample_rate=48000, num_frames=222408, num_channels=2, bits_per_sample=0, encoding=OPUS)\n",
      "AudioMetaData(sample_rate=44100, num_frames=4166, num_channels=2, bits_per_sample=0, encoding=AAC)\n",
      "AudioMetaData(sample_rate=44100, num_frames=584, num_channels=2, bits_per_sample=0, encoding=AAC)\n",
      "AudioMetaData(sample_rate=48000, num_frames=697608, num_channels=2, bits_per_sample=0, encoding=OPUS)\n",
      "AudioMetaData(sample_rate=44100, num_frames=10476, num_channels=1, bits_per_sample=0, encoding=AAC)\n",
      "AudioMetaData(sample_rate=48000, num_frames=11782728, num_channels=1, bits_per_sample=0, encoding=OPUS)\n",
      "AudioMetaData(sample_rate=48000, num_frames=269448, num_channels=2, bits_per_sample=0, encoding=OPUS)\n",
      "AudioMetaData(sample_rate=48000, num_frames=479688, num_channels=2, bits_per_sample=0, encoding=OPUS)\n",
      "AudioMetaData(sample_rate=48000, num_frames=263688, num_channels=2, bits_per_sample=0, encoding=OPUS)\n",
      "AudioMetaData(sample_rate=48000, num_frames=530568, num_channels=2, bits_per_sample=0, encoding=OPUS)\n",
      "AudioMetaData(sample_rate=48000, num_frames=585288, num_channels=2, bits_per_sample=0, encoding=OPUS)\n",
      "AudioMetaData(sample_rate=48000, num_frames=793608, num_channels=2, bits_per_sample=0, encoding=OPUS)\n",
      "AudioMetaData(sample_rate=48000, num_frames=576648, num_channels=2, bits_per_sample=0, encoding=OPUS)\n",
      "AudioMetaData(sample_rate=44100, num_frames=424, num_channels=2, bits_per_sample=0, encoding=AAC)\n",
      "AudioMetaData(sample_rate=48000, num_frames=314568, num_channels=2, bits_per_sample=0, encoding=OPUS)\n",
      "AudioMetaData(sample_rate=48000, num_frames=204168, num_channels=1, bits_per_sample=0, encoding=OPUS)\n",
      "AudioMetaData(sample_rate=44100, num_frames=521, num_channels=2, bits_per_sample=0, encoding=AAC)\n",
      "AudioMetaData(sample_rate=48000, num_frames=329928, num_channels=2, bits_per_sample=0, encoding=OPUS)\n",
      "AudioMetaData(sample_rate=48000, num_frames=919368, num_channels=2, bits_per_sample=0, encoding=OPUS)\n",
      "AudioMetaData(sample_rate=48000, num_frames=487368, num_channels=2, bits_per_sample=0, encoding=OPUS)\n",
      "AudioMetaData(sample_rate=48000, num_frames=407688, num_channels=2, bits_per_sample=0, encoding=OPUS)\n"
     ]
    }
   ],
   "source": [
    "for i, loc in enumerate(Path(\"../data/audio_segments/\").glob(\"*\")):\n",
    "    print(torchaudio.info(loc))\n",
    "    if i == 20:\n",
    "        break"
   ]
  },
  {
   "cell_type": "markdown",
   "id": "f30de1e8",
   "metadata": {},
   "source": [
    "It seems that sample rates, channels and encodings vary quite much. Maybe it would have been good to fix these in the splitting phase. The varying lengths will also be a problem, in setting up batches."
   ]
  }
 ],
 "metadata": {
  "kernelspec": {
   "display_name": "Python 3 (ipykernel)",
   "language": "python",
   "name": "python3"
  },
  "language_info": {
   "codemirror_mode": {
    "name": "ipython",
    "version": 3
   },
   "file_extension": ".py",
   "mimetype": "text/x-python",
   "name": "python",
   "nbconvert_exporter": "python",
   "pygments_lexer": "ipython3",
   "version": "3.10.2"
  }
 },
 "nbformat": 4,
 "nbformat_minor": 5
}
